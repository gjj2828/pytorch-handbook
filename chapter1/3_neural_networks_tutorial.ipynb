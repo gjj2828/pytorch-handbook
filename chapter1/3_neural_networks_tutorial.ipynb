{
 "cells": [
  {
   "cell_type": "code",
   "execution_count": null,
   "metadata": {},
   "outputs": [],
   "source": [
    "%matplotlib inline"
   ]
  },
  {
   "cell_type": "markdown",
   "metadata": {},
   "source": [
    "\n",
    "Neural Networks\n",
    "===============\n",
    "\n",
    "使用torch.nn包来构建神经网络。\n",
    "\n",
    "上一讲已经讲过了``autograd``，``nn``包依赖``autograd``包来定义模型并求导。\n",
    "一个``nn.Module``包含各个层和一个``forward(input)``方法，该方法返回``output``。\n",
    "\n",
    "\n",
    "\n",
    "例如：\n",
    "\n",
    "![](https://pytorch.org/tutorials/_images/mnist.png)\n",
    "\n",
    "它是一个简单的前馈神经网络，它接受一个输入，然后一层接着一层地传递，最后输出计算的结果。\n",
    "\n",
    "神经网络的典型训练过程如下：\n",
    "\n",
    "1. 定义包含一些可学习的参数(或者叫权重)神经网络模型； \n",
    "2. 在数据集上迭代； \n",
    "3. 通过神经网络处理输入； \n",
    "4. 计算损失(输出结果和正确值的差值大小)；\n",
    "5. 将梯度反向传播回网络的参数； \n",
    "6. 更新网络的参数，主要使用如下简单的更新原则： \n",
    "``weight = weight - learning_rate * gradient``\n",
    "\n",
    "  \n",
    "\n",
    "定义网络\n",
    "------------------\n",
    "\n",
    "开始定义一个网络：\n",
    "\n"
   ]
  },
  {
   "cell_type": "code",
   "execution_count": 9,
   "metadata": {},
   "outputs": [
    {
     "name": "stdout",
     "output_type": "stream",
     "text": [
      "Net(\n",
      "  (conv1): Conv2d(2, 6, kernel_size=(5, 5), stride=(1, 1))\n",
      "  (conv2): Conv2d(6, 16, kernel_size=(5, 5), stride=(1, 1))\n",
      "  (fc1): Linear(in_features=400, out_features=120, bias=True)\n",
      "  (fc2): Linear(in_features=120, out_features=84, bias=True)\n",
      "  (fc3): Linear(in_features=84, out_features=10, bias=True)\n",
      ")\n"
     ]
    }
   ],
   "source": [
    "import torch\n",
    "import torch.nn as nn\n",
    "import torch.nn.functional as F\n",
    "\n",
    "\n",
    "class Net(nn.Module):\n",
    "\n",
    "    def __init__(self):\n",
    "        super(Net, self).__init__()\n",
    "        # 1 input image channel, 6 output channels, 5x5 square convolution\n",
    "        # kernel\n",
    "        self.conv1 = nn.Conv2d(2, 6, 5)\n",
    "        self.conv2 = nn.Conv2d(6, 16, 5)\n",
    "        # an affine operation: y = Wx + b\n",
    "        self.fc1 = nn.Linear(16 * 5 * 5, 120)\n",
    "        self.fc2 = nn.Linear(120, 84)\n",
    "        self.fc3 = nn.Linear(84, 10)\n",
    "\n",
    "    def forward(self, x):\n",
    "        # Max pooling over a (2, 2) window\n",
    "        # x = F.max_pool2d(F.relu(self.conv1(x)), (2, 2))\n",
    "        a = self.conv1(x)\n",
    "        print(a.size())\n",
    "        b = F.relu(a)\n",
    "        print(b.size())\n",
    "        x = F.max_pool2d(b, (2, 2))\n",
    "        print(x.size())\n",
    "        # # If the size is a square you can only specify a single number\n",
    "        # x = F.max_pool2d(F.relu(self.conv2(x)), 2)\n",
    "        # print(x.size())\n",
    "        # x = x.view(-1, self.num_flat_features(x))\n",
    "        # # x = x.view(-1, 200)\n",
    "        # print(x.size())\n",
    "        # x = F.relu(self.fc1(x))\n",
    "        # x = F.relu(self.fc2(x))\n",
    "        # x = self.fc3(x)\n",
    "        return x\n",
    "\n",
    "    def num_flat_features(self, x):\n",
    "        size = x.size()[1:]  # all dimensions except the batch dimension\n",
    "        num_features = 1\n",
    "        for s in size:\n",
    "            num_features *= s\n",
    "        print(num_features)\n",
    "        return num_features\n",
    "\n",
    "\n",
    "net = Net()\n",
    "print(net)"
   ]
  },
  {
   "cell_type": "markdown",
   "metadata": {},
   "source": [
    "在模型中必须要定义 ``forward`` 函数，``backward``\n",
    "函数（用来计算梯度）会被``autograd``自动创建。\n",
    "可以在 ``forward`` 函数中使用任何针对 Tensor 的操作。\n",
    "\n",
    " ``net.parameters()``返回可被学习的参数（权重）列表和值\n",
    "\n"
   ]
  },
  {
   "cell_type": "code",
   "execution_count": 2,
   "metadata": {},
   "outputs": [
    {
     "name": "stdout",
     "output_type": "stream",
     "text": [
      "10\n",
      "torch.Size([6, 1, 5, 5])\n",
      "torch.Size([6])\n",
      "torch.Size([16, 6, 5, 5])\n",
      "torch.Size([16])\n",
      "torch.Size([120, 400])\n",
      "torch.Size([120])\n",
      "1\n"
     ]
    }
   ],
   "source": [
    "params = list(net.parameters())\n",
    "print(len(params))\n",
    "print(params[0].size())  # conv1's .weight\n",
    "print(params[1].size())  # conv1's .weight\n",
    "print(params[2].size())  # conv1's .weight\n",
    "print(params[3].size())  # conv1's .weight\n",
    "print(params[4].size())  # conv1's .weight\n",
    "print(params[5].size())  # conv1's .weight\n",
    "print(net._version)"
   ]
  },
  {
   "cell_type": "markdown",
   "metadata": {},
   "source": [
    "测试随机输入32×32。\n",
    "注：这个网络（LeNet）期望的输入大小是32×32，如果使用MNIST数据集来训练这个网络，请把图片大小重新调整到32×32。\n",
    "\n"
   ]
  },
  {
   "cell_type": "code",
   "execution_count": 10,
   "metadata": {},
   "outputs": [
    {
     "name": "stdout",
     "output_type": "stream",
     "text": [
      "torch.Size([1, 6, 28, 28])\n",
      "torch.Size([1, 6, 28, 28])\n",
      "torch.Size([1, 6, 14, 14])\n",
      "tensor([[[[0.7261, 0.6407, 1.0906,  ..., 1.0840, 0.7874, 0.6428],\n",
      "          [0.8036, 0.4795, 0.0000,  ..., 0.9495, 0.5942, 0.3541],\n",
      "          [1.2193, 0.7010, 0.5772,  ..., 0.0835, 0.1956, 0.8871],\n",
      "          ...,\n",
      "          [0.7455, 0.7804, 1.0367,  ..., 0.1396, 1.0607, 0.2267],\n",
      "          [0.5692, 0.4201, 0.8629,  ..., 0.2429, 0.7983, 0.0000],\n",
      "          [0.5114, 0.0000, 0.2079,  ..., 0.9539, 0.9879, 0.2722]],\n",
      "\n",
      "         [[0.4196, 0.0235, 0.8354,  ..., 1.0783, 0.1836, 0.5771],\n",
      "          [0.4151, 0.7943, 1.0452,  ..., 0.4610, 0.7724, 1.0821],\n",
      "          [0.2803, 0.8805, 1.0858,  ..., 0.1035, 0.9998, 0.7724],\n",
      "          ...,\n",
      "          [1.1401, 1.0061, 0.8896,  ..., 0.6259, 0.1779, 1.0371],\n",
      "          [1.0320, 0.5614, 0.5005,  ..., 0.3969, 1.1002, 1.3909],\n",
      "          [0.5669, 0.7030, 1.0018,  ..., 0.4878, 0.7614, 0.8180]],\n",
      "\n",
      "         [[0.0629, 0.4874, 0.1219,  ..., 0.7211, 0.5005, 0.4643],\n",
      "          [0.6833, 0.1275, 0.5073,  ..., 0.7911, 1.4567, 0.8900],\n",
      "          [0.5636, 0.0278, 0.2936,  ..., 0.8583, 0.2663, 1.2870],\n",
      "          ...,\n",
      "          [0.4335, 0.0000, 1.1591,  ..., 0.7756, 0.2184, 0.0000],\n",
      "          [0.8652, 0.3117, 0.6068,  ..., 0.7391, 0.5729, 0.5447],\n",
      "          [0.2557, 0.8588, 0.5216,  ..., 0.2998, 0.2885, 1.0025]],\n",
      "\n",
      "         [[0.4496, 0.9313, 1.1893,  ..., 0.7220, 1.0025, 0.4858],\n",
      "          [0.7701, 0.1161, 0.2595,  ..., 0.7208, 0.3304, 1.1614],\n",
      "          [0.6967, 0.8434, 0.3765,  ..., 0.6756, 0.2518, 0.5672],\n",
      "          ...,\n",
      "          [0.8928, 0.6704, 0.5356,  ..., 0.2575, 0.9293, 0.6377],\n",
      "          [0.3232, 0.8491, 0.4535,  ..., 0.3042, 1.2296, 1.5329],\n",
      "          [0.3556, 1.7275, 0.1746,  ..., 0.5077, 1.6374, 1.0706]],\n",
      "\n",
      "         [[0.6688, 1.3410, 0.9612,  ..., 0.6066, 0.8731, 1.4837],\n",
      "          [0.7855, 0.1904, 0.3199,  ..., 1.0766, 0.5395, 0.3551],\n",
      "          [0.9082, 1.0729, 1.0951,  ..., 0.4449, 0.0774, 1.2012],\n",
      "          ...,\n",
      "          [1.2403, 0.7276, 0.7011,  ..., 0.1909, 0.3714, 0.0573],\n",
      "          [0.5288, 0.8811, 1.1134,  ..., 0.2643, 0.4047, 0.0000],\n",
      "          [0.8136, 0.8100, 1.0567,  ..., 0.7404, 0.0000, 0.5818]],\n",
      "\n",
      "         [[0.5573, 0.0000, 0.9453,  ..., 0.9129, 0.5156, 0.6607],\n",
      "          [0.2589, 0.4712, 0.3332,  ..., 0.5315, 0.7815, 0.4376],\n",
      "          [0.4437, 0.7473, 1.1156,  ..., 0.0244, 0.2864, 0.2641],\n",
      "          ...,\n",
      "          [0.6534, 0.7605, 0.9909,  ..., 0.5553, 0.8384, 0.0000],\n",
      "          [0.4031, 0.4270, 1.1873,  ..., 1.2072, 0.4356, 0.4532],\n",
      "          [0.2715, 0.9168, 1.0633,  ..., 1.3401, 0.6287, 0.2818]]]],\n",
      "       grad_fn=<MaxPool2DWithIndicesBackward0>)\n"
     ]
    }
   ],
   "source": [
    "input = torch.randn(1, 2, 32, 32)\n",
    "out = net(input)\n",
    "print(out)"
   ]
  },
  {
   "cell_type": "code",
   "execution_count": 7,
   "metadata": {},
   "outputs": [],
   "source": [
    "net.zero_grad()\n",
    "out.backward(torch.randn(1, 10))"
   ]
  },
  {
   "cell_type": "markdown",
   "metadata": {},
   "source": [
    "<div class=\"alert alert-info\"><h4>Note</h4><p>``torch.nn`` 只支持小批量输入。整个 ``torch.nn``\n",
    "包都只支持小批量样本，而不支持单个样本。\n",
    "\n",
    "    例如，``nn.Conv2d`` 接受一个4维的张量，\n",
    "    ``每一维分别是sSamples * nChannels * Height * Width（样本数*通道数*高*宽）``。\n",
    "\n",
    "    如果你有单个样本，只需使用 ``input.unsqueeze(0)`` 来添加其它的维数</p></div>\n",
    "\n",
    "在继续之前，我们回顾一下到目前为止用到的类。\n",
    "\n",
    "**回顾:**\n",
    "  -  ``torch.Tensor``：一个用过自动调用 ``backward()``实现支持自动梯度计算的 *多维数组* ，\n",
    "      并且保存关于这个向量的*梯度* w.r.t.\n",
    "  -  ``nn.Module``：神经网络模块。封装参数、移动到GPU上运行、导出、加载等。\n",
    "  -  ``nn.Parameter``：一种变量，当把它赋值给一个``Module``时，被 *自动* 地注册为一个参数。\n",
    "  -  ``autograd.Function``：实现一个自动求导操作的前向和反向定义，每个变量操作至少创建一个函数节点，每一个``Tensor``的操作都回创建一个接到创建``Tensor``和 *编码其历史* 的函数的``Function``节点。\n",
    "\n",
    "**重点如下：**\n",
    "  -  定义一个网络\n",
    "  -  处理输入，调用backword\n",
    "\n",
    "**还剩：**\n",
    "  -  计算损失\n",
    "  -  更新网络权重\n",
    "\n",
    "损失函数\n",
    "-------------\n",
    "一个损失函数接受一对 (output, target) 作为输入，计算一个值来估计网络的输出和目标值相差多少。\n",
    "\n",
    "***译者注：output为网络的输出，target为实际值***\n",
    "\n",
    "nn包中有很多不同的[损失函数](https://pytorch.org/docs/nn.html#loss-functions)。\n",
    "``nn.MSELoss``是一个比较简单的损失函数，它计算输出和目标间的**均方误差**，\n",
    "例如：\n",
    "\n"
   ]
  },
  {
   "cell_type": "code",
   "execution_count": 3,
   "metadata": {},
   "outputs": [
    {
     "name": "stdout",
     "output_type": "stream",
     "text": [
      "torch.Size([1, 6, 14, 14])\n",
      "torch.Size([1, 16, 5, 5])\n",
      "400\n",
      "torch.Size([1, 400])\n",
      "torch.Size([1, 10])\n",
      "torch.Size([10])\n",
      "torch.Size([1, 10])\n",
      "tensor(1.0138, grad_fn=<MseLossBackward0>)\n"
     ]
    }
   ],
   "source": [
    "output = net(input)\n",
    "print(output.size())\n",
    "target = torch.randn(10)  # 随机值作为样例\n",
    "print(target.size())\n",
    "target = target.view(1, -1)  # 使target和output的shape相同\n",
    "print(target.size())\n",
    "criterion = nn.MSELoss()\n",
    "\n",
    "loss = criterion(output, target)\n",
    "print(loss)"
   ]
  },
  {
   "cell_type": "markdown",
   "metadata": {},
   "source": [
    "现在，如果在反向过程中跟随``loss`` ， 使用它的\n",
    "``.grad_fn`` 属性，将看到如下所示的计算图。\n",
    "\n",
    "::\n",
    "\n",
    "    input -> conv2d -> relu -> maxpool2d -> conv2d -> relu -> maxpool2d\n",
    "          -> view -> linear -> relu -> linear -> relu -> linear\n",
    "          -> MSELoss\n",
    "          -> loss\n",
    "\n",
    "所以，当我们调用 ``loss.backward()``时,整张计算图都会\n",
    "根据loss进行微分，而且图中所有设置为``requires_grad=True``的张量\n",
    "将会拥有一个随着梯度累积的``.grad`` 张量。\n",
    "\n",
    "为了说明，让我们向后退几步:\n",
    "\n"
   ]
  },
  {
   "cell_type": "code",
   "execution_count": 9,
   "metadata": {},
   "outputs": [
    {
     "name": "stdout",
     "output_type": "stream",
     "text": [
      "<MseLossBackward object at 0x7f3b49fe2470>\n",
      "<AddmmBackward object at 0x7f3bb05f17f0>\n",
      "<AccumulateGrad object at 0x7f3b4a3c34e0>\n"
     ]
    }
   ],
   "source": [
    "print(loss.grad_fn)  # MSELoss\n",
    "print(loss.grad_fn.next_functions[0][0])  # Linear\n",
    "print(loss.grad_fn.next_functions[0][0].next_functions[0][0])  # ReLU"
   ]
  },
  {
   "cell_type": "markdown",
   "metadata": {},
   "source": [
    "反向传播\n",
    "--------\n",
    "调用loss.backward()获得反向传播的误差。\n",
    "\n",
    "但是在调用前需要清除已存在的梯度，否则梯度将被累加到已存在的梯度。\n",
    "\n",
    "现在，我们将调用loss.backward()，并查看conv1层的偏差（bias）项在反向传播前后的梯度。\n",
    "\n",
    "\n"
   ]
  },
  {
   "cell_type": "code",
   "execution_count": 10,
   "metadata": {},
   "outputs": [
    {
     "name": "stdout",
     "output_type": "stream",
     "text": [
      "conv1.bias.grad before backward\n",
      "tensor([0., 0., 0., 0., 0., 0.])\n",
      "conv1.bias.grad after backward\n",
      "tensor([ 0.0051,  0.0042,  0.0026,  0.0152, -0.0040, -0.0036])\n"
     ]
    }
   ],
   "source": [
    "net.zero_grad()     # 清除梯度\n",
    "\n",
    "print('conv1.bias.grad before backward')\n",
    "print(net.conv1.bias.grad)\n",
    "\n",
    "loss.backward()\n",
    "\n",
    "print('conv1.bias.grad after backward')\n",
    "print(net.conv1.bias.grad)"
   ]
  },
  {
   "cell_type": "markdown",
   "metadata": {},
   "source": [
    "如何使用损失函数\n",
    "\n",
    "**稍后阅读：**\n",
    "\n",
    "  `nn`包，包含了各种用来构成深度神经网络构建块的模块和损失函数，完整的文档请查看[here](https://pytorch.org/docs/nn)。\n",
    "\n",
    "**剩下的最后一件事:**\n",
    "\n",
    "  - 新网络的权重\n",
    "\n",
    "更新权重\n",
    "------------------\n",
    "在实践中最简单的权重更新规则是随机梯度下降（SGD）：\n",
    "\n",
    "     ``weight = weight - learning_rate * gradient``\n",
    "\n",
    "我们可以使用简单的Python代码实现这个规则：\n",
    "\n",
    "```python\n",
    "\n",
    "learning_rate = 0.01\n",
    "for f in net.parameters():\n",
    "    f.data.sub_(f.grad.data * learning_rate)\n",
    "```\n",
    "但是当使用神经网络是想要使用各种不同的更新规则时，比如SGD、Nesterov-SGD、Adam、RMSPROP等，PyTorch中构建了一个包``torch.optim``实现了所有的这些规则。\n",
    "使用它们非常简单：\n"
   ]
  },
  {
   "cell_type": "code",
   "execution_count": 11,
   "metadata": {},
   "outputs": [],
   "source": [
    "import torch.optim as optim\n",
    "\n",
    "# create your optimizer\n",
    "optimizer = optim.SGD(net.parameters(), lr=0.01)\n",
    "\n",
    "# in your training loop:\n",
    "optimizer.zero_grad()   # zero the gradient buffers\n",
    "output = net(input)\n",
    "loss = criterion(output, target)\n",
    "loss.backward()\n",
    "optimizer.step()    # Does the update"
   ]
  },
  {
   "cell_type": "markdown",
   "metadata": {},
   "source": [
    ".. 注意::\n",
    "    \n",
    "      观察如何使用``optimizer.zero_grad()``手动将梯度缓冲区设置为零。\n",
    "      这是因为梯度是按Backprop部分中的说明累积的。\n",
    "\n"
   ]
  },
  {
   "cell_type": "code",
   "execution_count": null,
   "metadata": {},
   "outputs": [],
   "source": []
  }
 ],
 "metadata": {
  "kernelspec": {
   "display_name": "Python 3.10",
   "language": "python",
   "name": "python3.10"
  },
  "language_info": {
   "codemirror_mode": {
    "name": "ipython",
    "version": 3
   },
   "file_extension": ".py",
   "mimetype": "text/x-python",
   "name": "python",
   "nbconvert_exporter": "python",
   "pygments_lexer": "ipython3",
   "version": "3.10.9"
  }
 },
 "nbformat": 4,
 "nbformat_minor": 4
}
